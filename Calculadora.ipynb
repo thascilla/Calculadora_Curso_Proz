{
  "nbformat": 4,
  "nbformat_minor": 0,
  "metadata": {
    "colab": {
      "provenance": []
    },
    "kernelspec": {
      "name": "python3",
      "display_name": "Python 3"
    },
    "language_info": {
      "name": "python"
    }
  },
  "cells": [
    {
      "cell_type": "code",
      "source": [
        "def calculadora(num1, num2, operacao):\n",
        "    if operacao == 1:\n",
        "        return num1 + num2\n",
        "    elif operacao == 2:\n",
        "        return num1 - num2\n",
        "    elif operacao == 3:\n",
        "        return num1 * num2\n",
        "    elif operacao == 4:\n",
        "        if num2 != 0:\n",
        "            return num1 / num2\n",
        "        else:\n",
        "            return \"Erro: divisão por zero\"\n",
        "    else:\n",
        "        return 0\n",
        "\n",
        "\n",
        "numero1 = float(input(\"Digite o primeiro número: \"))\n",
        "numero2 = float(input(\"Digite o segundo número: \"))\n",
        "\n",
        "\n",
        "print(\"Escolha a operação:\")\n",
        "print(\"1: Soma\")\n",
        "print(\"2: Subtração\")\n",
        "print(\"3: Multiplicação\")\n",
        "print(\"4: Divisão\")\n",
        "op = int(input(\"Digite o número da operação desejada: \"))\n",
        "\n",
        "\n",
        "resultado = calculadora(numero1, numero2, op)\n",
        "\n",
        "\n",
        "if resultado == 0 and op not in [1, 2, 3, 4]:\n",
        "    print(\"Operação inválida. O resultado é 0.\")\n",
        "else:\n",
        "    print(\"Resultado:\", resultado)\n"
      ],
      "metadata": {
        "colab": {
          "base_uri": "https://localhost:8080/"
        },
        "id": "8jlGnUIqRbvQ",
        "outputId": "cf257f88-b4de-4e22-d4a5-a1aeff98b1b4"
      },
      "execution_count": 5,
      "outputs": [
        {
          "output_type": "stream",
          "name": "stdout",
          "text": [
            "Digite o primeiro número: 0\n",
            "Digite o segundo número: 2\n",
            "Escolha a operação:\n",
            "1: Soma\n",
            "2: Subtração\n",
            "3: Multiplicação\n",
            "4: Divisão\n",
            "Digite o número da operação desejada: 5\n",
            "Operação inválida. O resultado é 0.\n"
          ]
        }
      ]
    }
  ]
}